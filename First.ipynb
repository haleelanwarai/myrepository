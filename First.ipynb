{
 "cells": [
  {
   "cell_type": "code",
   "execution_count": null,
   "id": "337adcf3",
   "metadata": {},
   "outputs": [],
   "source": [
    "# flatten the list in single list\n",
    "# [[1,2,3], [4,5,6], [7,8,9]] = [1,2,3,4,5,6,7,8,9]\n",
    "\n"
   ]
  },
  {
   "cell_type": "code",
   "execution_count": 51,
   "id": "5de8c4ed",
   "metadata": {},
   "outputs": [
    {
     "data": {
      "text/plain": [
       "[5, 0, 9, 0, 23]"
      ]
     },
     "execution_count": 51,
     "metadata": {},
     "output_type": "execute_result"
    }
   ],
   "source": [
    "# write a code to replace all negative values with 0\n",
    "nums=[5,-4,9,-10,23]\n",
    "\n",
    "[a if a>0 else 0 for a in nums]"
   ]
  },
  {
   "cell_type": "code",
   "execution_count": null,
   "id": "8641b89d",
   "metadata": {},
   "outputs": [
    {
     "ename": "IndentationError",
     "evalue": "expected an indented block after 'else' statement on line 7 (88849096.py, line 8)",
     "output_type": "error",
     "traceback": [
      "\u001b[1;36m  Cell \u001b[1;32mIn[47], line 8\u001b[1;36m\u001b[0m\n\u001b[1;33m    print(nums)\u001b[0m\n\u001b[1;37m    ^\u001b[0m\n\u001b[1;31mIndentationError\u001b[0m\u001b[1;31m:\u001b[0m expected an indented block after 'else' statement on line 7\n"
     ]
    }
   ],
   "source": [
    "# write a code to replace all negative values with 0\n",
    "\n",
    "nums=[5,-4,9,-10,23]\n",
    "for i in range(len(nums)):\n",
    "    if i%2==0:\n",
    "        print(i)\n",
    "    else\n",
    "    print(nums)"
   ]
  },
  {
   "cell_type": "code",
   "execution_count": 32,
   "id": "30ebc2c0",
   "metadata": {},
   "outputs": [
    {
     "name": "stdout",
     "output_type": "stream",
     "text": [
      "['PYHTON', 'DATA', 'SCIENCE']\n"
     ]
    }
   ],
   "source": [
    "words = ['pyhton', 'data','science']\n",
    "\n",
    "words=[a.upper() for a in words]\n",
    "\n",
    "print(words)"
   ]
  },
  {
   "cell_type": "code",
   "execution_count": 27,
   "id": "e4b2b26f",
   "metadata": {},
   "outputs": [
    {
     "name": "stdout",
     "output_type": "stream",
     "text": [
      "10\n",
      "20\n",
      "30\n",
      "40\n",
      "50\n",
      "60\n"
     ]
    }
   ],
   "source": [
    "a = [10,20,30,40,50,60]\n",
    "\n",
    "for i in range(len(a)):\n",
    "    print (a[i])"
   ]
  },
  {
   "cell_type": "code",
   "execution_count": null,
   "id": "d69b3f0c",
   "metadata": {},
   "outputs": [
    {
     "name": "stdout",
     "output_type": "stream",
     "text": [
      "PYHTON\n",
      "DATA\n",
      "SCIENCE\n",
      "['pyhton', 'data', 'science']\n"
     ]
    }
   ],
   "source": [
    "words = ['pyhton', 'data','science']\n",
    "\n",
    "for a in words:\n",
    "    a=a.upper()\n",
    "    print(a)\n",
    "    \n",
    "print(words)    "
   ]
  },
  {
   "cell_type": "code",
   "execution_count": null,
   "id": "7b989867",
   "metadata": {},
   "outputs": [],
   "source": []
  },
  {
   "cell_type": "code",
   "execution_count": 9,
   "id": "160cc60f",
   "metadata": {},
   "outputs": [
    {
     "data": {
      "text/plain": [
       "[2, 4, 6, 8, 10, 12, 14, 16, 18, 20]"
      ]
     },
     "execution_count": 9,
     "metadata": {},
     "output_type": "execute_result"
    }
   ],
   "source": [
    "[a for a in range(1,21) if a%2==0]\n"
   ]
  },
  {
   "cell_type": "code",
   "execution_count": 4,
   "id": "53bbc74f",
   "metadata": {},
   "outputs": [
    {
     "name": "stdout",
     "output_type": "stream",
     "text": [
      "2\n",
      "4\n",
      "6\n",
      "8\n",
      "10\n",
      "12\n",
      "14\n",
      "16\n",
      "18\n",
      "20\n"
     ]
    }
   ],
   "source": [
    "for even in range(1,21):\n",
    "    if even%2==0:\n",
    "        print(even)"
   ]
  }
 ],
 "metadata": {
  "kernelspec": {
   "display_name": "base",
   "language": "python",
   "name": "python3"
  },
  "language_info": {
   "codemirror_mode": {
    "name": "ipython",
    "version": 3
   },
   "file_extension": ".py",
   "mimetype": "text/x-python",
   "name": "python",
   "nbconvert_exporter": "python",
   "pygments_lexer": "ipython3",
   "version": "3.12.7"
  }
 },
 "nbformat": 4,
 "nbformat_minor": 5
}
